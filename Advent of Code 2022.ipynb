{
 "cells": [
  {
   "cell_type": "markdown",
   "id": "abb7ec1f",
   "metadata": {},
   "source": [
    "## [Day 1: Calorie Counting](https://adventofcode.com/2022/day/1)"
   ]
  },
  {
   "cell_type": "code",
   "execution_count": 2,
   "id": "69269a10",
   "metadata": {},
   "outputs": [
    {
     "data": {
      "text/plain": [
       "(70374, 204610)"
      ]
     },
     "execution_count": 2,
     "metadata": {},
     "output_type": "execute_result"
    }
   ],
   "source": [
    "elves = [0]\n",
    "for line in eachline(\"1.txt\")\n",
    "    if line == \"\"\n",
    "        push!(elves, 0)\n",
    "        continue\n",
    "    end\n",
    "    elves[end] += parse(Int, line)\n",
    "end\n",
    "sort!(elves)\n",
    "elves[end], sum(elves[end-2:end])"
   ]
  },
  {
   "cell_type": "markdown",
   "id": "5c7ccf2f",
   "metadata": {},
   "source": [
    "## [Day 2: Rock Paper Scissors](https://adventofcode.com/2022/day/2)"
   ]
  },
  {
   "cell_type": "code",
   "execution_count": 3,
   "id": "6d7bc5ef",
   "metadata": {},
   "outputs": [
    {
     "data": {
      "text/plain": [
       "10994"
      ]
     },
     "execution_count": 3,
     "metadata": {},
     "output_type": "execute_result"
    }
   ],
   "source": [
    "games = split.(readlines(\"2.txt\"))\n",
    "\n",
    "score = Dict([\n",
    "    [\"A\", \"X\"] => 3 + 1,\n",
    "    [\"B\", \"X\"] => 0 + 1,\n",
    "    [\"C\", \"X\"] => 6 + 1,\n",
    "    [\"A\", \"Y\"] => 6 + 2,\n",
    "    [\"B\", \"Y\"] => 3 + 2,\n",
    "    [\"C\", \"Y\"] => 0 + 2,\n",
    "    [\"A\", \"Z\"] => 0 + 3,\n",
    "    [\"B\", \"Z\"] => 6 + 3,\n",
    "    [\"C\", \"Z\"] => 3 + 3,\n",
    "])\n",
    "sum(score[g] for g in games)"
   ]
  },
  {
   "cell_type": "code",
   "execution_count": 4,
   "id": "e9f95908",
   "metadata": {},
   "outputs": [
    {
     "data": {
      "text/plain": [
       "12526"
      ]
     },
     "execution_count": 4,
     "metadata": {},
     "output_type": "execute_result"
    }
   ],
   "source": [
    "score = Dict([\n",
    "    [\"A\", \"X\"] => 0 + 3,\n",
    "    [\"B\", \"X\"] => 0 + 1,\n",
    "    [\"C\", \"X\"] => 0 + 2,\n",
    "    [\"A\", \"Y\"] => 3 + 1,\n",
    "    [\"B\", \"Y\"] => 3 + 2,\n",
    "    [\"C\", \"Y\"] => 3 + 3,\n",
    "    [\"A\", \"Z\"] => 6 + 2,\n",
    "    [\"B\", \"Z\"] => 6 + 3,\n",
    "    [\"C\", \"Z\"] => 6 + 1,\n",
    "])\n",
    "sum(score[g] for g in games)"
   ]
  },
  {
   "cell_type": "markdown",
   "id": "8a3c8243",
   "metadata": {},
   "source": [
    "## [Day 3: Rucksack Reorganization](https://adventofcode.com/2022/day/3)"
   ]
  },
  {
   "cell_type": "code",
   "execution_count": 5,
   "id": "66603632",
   "metadata": {},
   "outputs": [
    {
     "data": {
      "text/plain": [
       "(7863, 2488)"
      ]
     },
     "execution_count": 5,
     "metadata": {},
     "output_type": "execute_result"
    }
   ],
   "source": [
    "data_3 = readlines(\"3.txt\")\n",
    "\n",
    "halves(x) = (x[1:div(length(x), 2)], x[div(length(x), 2)+1:end])\n",
    "priority(c) = isuppercase(c) ? Int(c) - 64 + 26 : Int(c) - 96\n",
    "\n",
    "sum(priority(only(intersect(Set.(halves(x))...))) for x in data_3),\n",
    "sum(priority(only(intersect(Set.(x)...))) for x in Iterators.partition(data_3, 3))"
   ]
  },
  {
   "cell_type": "markdown",
   "id": "915af262",
   "metadata": {},
   "source": [
    "## [Day 4: Camp Cleanup](https://adventofcode.com/2022/day/4)"
   ]
  },
  {
   "cell_type": "code",
   "execution_count": 6,
   "id": "6983451b",
   "metadata": {},
   "outputs": [
    {
     "data": {
      "text/plain": [
       "(584, 933)"
      ]
     },
     "execution_count": 6,
     "metadata": {},
     "output_type": "execute_result"
    }
   ],
   "source": [
    "data_4 = readlines(\"4.txt\")\n",
    "ranges = [range(parse.(Int, split(x, '-'))...) for x in reduce(vcat, permutedims.(split.(data_4, ',')))]\n",
    "\n",
    "sum(issubset(x, y) || issubset(y, x) for (x, y) in eachrow(ranges)),\n",
    "sum(!isempty(intersect(x, y)) for (x, y) in eachrow(ranges))"
   ]
  },
  {
   "cell_type": "markdown",
   "id": "1c4e0d0e",
   "metadata": {},
   "source": [
    "## [Day 5: Supply Stacks](https://adventofcode.com/2022/day/5)"
   ]
  },
  {
   "cell_type": "code",
   "execution_count": 7,
   "id": "eec8f872",
   "metadata": {},
   "outputs": [
    {
     "data": {
      "text/plain": [
       "(\"VJSFHWGFT\", \"LCTQFBVZV\")"
      ]
     },
     "execution_count": 7,
     "metadata": {},
     "output_type": "execute_result"
    }
   ],
   "source": [
    "data_5 = readlines(\"5.txt\")\n",
    "stacks = [filter(!=(' '), reverse(r)) for r in eachrow(hcat(collect.([l[2:4:end] for l in data_5[1:8]])...))]\n",
    "instructions = data_5[11:end]\n",
    "\n",
    "function cratemover9000(stacks, instructions)\n",
    "    stacks = deepcopy(stacks)\n",
    "    for i in instructions\n",
    "        n, s, e = parse.(Int, match(r\"move (\\d+) from (\\d+) to (\\d+)\", i).captures)\n",
    "        for j in 1:n\n",
    "            push!(stacks[e], pop!(stacks[s]))\n",
    "        end\n",
    "    end\n",
    "    prod(last.(stacks))\n",
    "end\n",
    "\n",
    "function cratemover9001(stacks, instructions)\n",
    "    stacks = deepcopy(stacks)\n",
    "    for i in instructions\n",
    "        n, s, e = parse.(Int, match(r\"move (\\d+) from (\\d+) to (\\d+)\", i).captures)\n",
    "        append!(stacks[e], stacks[s][end-n+1:end])\n",
    "        for j in 1:n\n",
    "            pop!(stacks[s])\n",
    "        end\n",
    "    end\n",
    "    prod(last.(stacks))\n",
    "end\n",
    "\n",
    "cratemover9000(stacks, instructions), cratemover9001(stacks, instructions)"
   ]
  },
  {
   "cell_type": "markdown",
   "id": "6fdc87f7",
   "metadata": {},
   "source": [
    "## [Day 6: Tuning Trouble](https://adventofcode.com/2022/day/6)"
   ]
  },
  {
   "cell_type": "code",
   "execution_count": 8,
   "id": "d0e7bab4",
   "metadata": {},
   "outputs": [
    {
     "data": {
      "text/plain": [
       "(1175, 3217)"
      ]
     },
     "execution_count": 8,
     "metadata": {},
     "output_type": "execute_result"
    }
   ],
   "source": [
    "data_6 = readline(\"6.txt\")\n",
    "\n",
    "end_of_marker(data, n) = findfirst(i -> allunique(data[i:i+n-1]), 1:length(data)) + n - 1\n",
    "\n",
    "end_of_marker(data_6, 4), end_of_marker(data_6, 14)"
   ]
  },
  {
   "cell_type": "markdown",
   "id": "8ebff274",
   "metadata": {},
   "source": [
    "## [Day 7: No Space Left On Device](https://adventofcode.com/2022/day/7)"
   ]
  },
  {
   "cell_type": "code",
   "execution_count": 9,
   "id": "d0b7966a",
   "metadata": {},
   "outputs": [
    {
     "data": {
      "text/plain": [
       "(1792222, 1112963)"
      ]
     },
     "execution_count": 9,
     "metadata": {},
     "output_type": "execute_result"
    }
   ],
   "source": [
    "data_7 = readlines(\"7.txt\")\n",
    "\n",
    "function build_filesystem(terminal_output)\n",
    "    filesystem = Dict()\n",
    "    path = []\n",
    "    for l in data_7\n",
    "        if l == \"\\$ cd /\"\n",
    "            path = []\n",
    "        elseif l == \"\\$ cd ..\"\n",
    "            pop!(path)\n",
    "        elseif startswith(l, \"\\$ cd\")\n",
    "            push!(path, last(split(l)))\n",
    "        elseif l == \"\\$ ls\"\n",
    "            continue\n",
    "        else\n",
    "            cwd = foldl((d, x) -> d[x], path; init = filesystem)\n",
    "            if startswith(l, \"dir\")\n",
    "                get!(cwd, last(split(l)), Dict())\n",
    "            else\n",
    "                size, name = split(l)\n",
    "                get!(cwd, name, parse(Int, size))\n",
    "            end\n",
    "        end\n",
    "    end\n",
    "    filesystem\n",
    "end\n",
    "\n",
    "function directory_sizes(filesystem)\n",
    "    sizes = Int[]\n",
    "    crawl(directory) = directory isa Dict ? last(push!(sizes, sum(crawl.(values(directory))))) : directory\n",
    "    crawl(filesystem)\n",
    "    sort!(sizes)\n",
    "end\n",
    "\n",
    "sizes = directory_sizes(build_filesystem(data_7))\n",
    "sum(filter(<=(100000), sizes)), sizes[findfirst(>=(sizes[end] - 40000000), sizes)]"
   ]
  },
  {
   "cell_type": "markdown",
   "id": "b5ddc0bc",
   "metadata": {},
   "source": [
    "## [Day 8: Treetop Tree House](https://adventofcode.com/2022/day/8)"
   ]
  },
  {
   "cell_type": "code",
   "execution_count": 10,
   "id": "e8f05eca",
   "metadata": {},
   "outputs": [
    {
     "data": {
      "text/plain": [
       "1827"
      ]
     },
     "execution_count": 10,
     "metadata": {},
     "output_type": "execute_result"
    }
   ],
   "source": [
    "data_8 = readlines(\"8.txt\")\n",
    "trees = parse.(Int, reduce(hcat, collect.(data_8)))\n",
    "\n",
    "function forward_visible(trees)\n",
    "    visible = falses(size(trees))\n",
    "    h = -1\n",
    "    for (i, t) in enumerate(trees)\n",
    "        if t > h\n",
    "            h = t\n",
    "            visible[i] = true\n",
    "        end\n",
    "    end\n",
    "    visible\n",
    "end\n",
    "\n",
    "sum(\n",
    "    mapslices(forward_visible, trees; dims = 1) .|\n",
    "    mapslices(forward_visible, trees; dims = 2) .|\n",
    "    mapslices(reverse ∘ forward_visible ∘ reverse, trees; dims = 1) .|\n",
    "    mapslices(reverse ∘ forward_visible ∘ reverse, trees; dims = 2),\n",
    ")"
   ]
  },
  {
   "cell_type": "code",
   "execution_count": 11,
   "id": "5d6d1de3",
   "metadata": {},
   "outputs": [
    {
     "data": {
      "text/plain": [
       "335580"
      ]
     },
     "execution_count": 11,
     "metadata": {},
     "output_type": "execute_result"
    }
   ],
   "source": [
    "function forward_viewing_distance(trees)\n",
    "    distance = zeros(Int, length(trees))\n",
    "    for (i, t) in enumerate(trees)\n",
    "        j = findfirst(>=(t), trees[i+1:end])\n",
    "        distance[i] = isnothing(j) ? length(trees) - i : j\n",
    "    end\n",
    "    distance\n",
    "end\n",
    "\n",
    "maximum(\n",
    "    mapslices(forward_viewing_distance, trees; dims = 1) .* mapslices(forward_viewing_distance, trees; dims = 2) .*\n",
    "    mapslices(reverse ∘ forward_viewing_distance ∘ reverse, trees; dims = 1) .*\n",
    "    mapslices(reverse ∘ forward_viewing_distance ∘ reverse, trees; dims = 2),\n",
    ")"
   ]
  },
  {
   "cell_type": "markdown",
   "id": "6023016e",
   "metadata": {},
   "source": [
    "## [Day 9: Rope Bridge](https://adventofcode.com/2022/day/9)"
   ]
  },
  {
   "cell_type": "code",
   "execution_count": 12,
   "id": "studied-ukraine",
   "metadata": {},
   "outputs": [],
   "source": [
    "using StaticArrays"
   ]
  },
  {
   "cell_type": "code",
   "execution_count": 13,
   "id": "c9d18032",
   "metadata": {},
   "outputs": [
    {
     "data": {
      "text/plain": [
       "(6030, 2545)"
      ]
     },
     "execution_count": 13,
     "metadata": {},
     "output_type": "execute_result"
    }
   ],
   "source": [
    "data_9 = readlines(\"9.txt\")\n",
    "\n",
    "function tail_locations(moves, num_knots = 2)\n",
    "    directions = Dict(\"L\" => SVector(-1, 0), \"R\" => SVector(1, 0), \"U\" => SVector(0, 1), \"D\" => SVector(0, -1))\n",
    "    r = fill(SVector(0, 0), num_knots)\n",
    "    ts = Set((r[end],))\n",
    "    for (d, n) in split.(moves)\n",
    "        for i in 1:parse(Int, n)\n",
    "            r[1] += directions[d]\n",
    "            for k in 2:length(r)\n",
    "                if maximum(abs.(r[k-1] - r[k])) > 1\n",
    "                    r[k] += clamp.(r[k-1] - r[k], -1, 1)\n",
    "                end\n",
    "            end\n",
    "            push!(ts, r[end])\n",
    "        end\n",
    "    end\n",
    "    ts\n",
    "end\n",
    "\n",
    "length(tail_locations(data_9, 2)), length(tail_locations(data_9, 10))"
   ]
  },
  {
   "cell_type": "markdown",
   "id": "interesting-douglas",
   "metadata": {},
   "source": [
    "## [Day 10: Cathode-Ray Tube](https://adventofcode.com/2022/day/10)"
   ]
  },
  {
   "cell_type": "code",
   "execution_count": 14,
   "id": "joined-samoa",
   "metadata": {},
   "outputs": [],
   "source": [
    "using SparseArrays"
   ]
  },
  {
   "cell_type": "code",
   "execution_count": 15,
   "id": "living-natural",
   "metadata": {},
   "outputs": [
    {
     "name": "stdout",
     "output_type": "stream",
     "text": [
      "sum((x[t] * t for t = 20:40:220)) = 13440\n"
     ]
    },
    {
     "data": {
      "text/plain": [
       "6×40 SparseMatrixCSC{Bool, Int64} with 106 stored entries:\n",
       "⣏⡱⢸⠭⡂⢉⠝⢰⢉⡂⣏⡱⢰⣉⡆⢉⠝⢰⣉⡆\n",
       "⠃⠀⠘⠒⠁⠓⠒⠈⠒⠃⠃⠑⠘⠀⠃⠓⠒⠘⠀⠃"
      ]
     },
     "execution_count": 15,
     "metadata": {},
     "output_type": "execute_result"
    }
   ],
   "source": [
    "data_10 = readlines(\"10.txt\")\n",
    "\n",
    "function cathode_ray_tube(ops, interval = 40, offset = 20)\n",
    "    incremements = [startswith(x, ('n', 'a')) ? 0 : parse(Int, x) for x in reduce(vcat, split.(data_10))]\n",
    "    x = cumsum(prepend!(incremements, 1))\n",
    "    @show sum(x[t] * t for t in 20:40:220)\n",
    "    sparse(permutedims(-1:38 .<= reshape(x[1:end-1], 40, 6) .<= 1:40))\n",
    "end\n",
    "\n",
    "cathode_ray_tube(data_10)"
   ]
  },
  {
   "cell_type": "markdown",
   "id": "theoretical-infrastructure",
   "metadata": {},
   "source": [
    "## [Day 11: Monkey in the Middle](https://adventofcode.com/2022/day/11)"
   ]
  },
  {
   "cell_type": "code",
   "execution_count": 16,
   "id": "0c1e62a2",
   "metadata": {},
   "outputs": [
    {
     "data": {
      "text/plain": [
       "(120056, 21816744824)"
      ]
     },
     "execution_count": 16,
     "metadata": {},
     "output_type": "execute_result"
    }
   ],
   "source": [
    "data_11 = readlines(\"11.txt\")\n",
    "\n",
    "struct Monkey{O,T}\n",
    "    items::Vector{Int}\n",
    "    operation::O\n",
    "    divisor::Int\n",
    "    target::T\n",
    "end\n",
    "function Monkey(def::Vector{String})\n",
    "    items = parse.(Int, split(def[2][19:end], ','))\n",
    "    operation = eval(Meta.parse(\"old -> \" * def[3][20:end]))\n",
    "    divisor, true_monkey, false_monkey = parse.(Int, (def[4][22:end], def[5][30:end], def[6][31:end]))\n",
    "    Monkey(items, operation, divisor, x -> x % divisor == 0 ? true_monkey : false_monkey)\n",
    "end\n",
    "\n",
    "monkeys = [Monkey(data_11[i:i+5]) for i in 1:7:length(data_11)]\n",
    "\n",
    "function monkey_business(monkeys, rounds = 20, div3 = true)\n",
    "    divisor_lcm = lcm([monkey.divisor for monkey in monkeys])\n",
    "    monkeys = deepcopy(monkeys)\n",
    "    inspection_counts = zeros(Int, length(monkeys))\n",
    "    for _ in 1:rounds\n",
    "        for (i, monkey) in enumerate(monkeys)\n",
    "            while !isempty(monkey.items)\n",
    "                inspection_counts[i] += 1\n",
    "                worry = monkey.operation(popfirst!(monkey.items))\n",
    "                worry = div3 ? worry ÷ 3 : worry % divisor_lcm\n",
    "                push!(monkeys[monkey.target(worry)+1].items, worry)\n",
    "            end\n",
    "        end\n",
    "    end\n",
    "    inspection_counts\n",
    "end\n",
    "\n",
    "prod(sort!(monkey_business(monkeys))[end-1:end]), prod(sort!(monkey_business(monkeys, 10000, false))[end-1:end])"
   ]
  },
  {
   "cell_type": "markdown",
   "id": "5e3d2480",
   "metadata": {},
   "source": [
    "## [Day 12: Hill Climbing Algorithm](https://adventofcode.com/2022/day/12)"
   ]
  },
  {
   "cell_type": "code",
   "execution_count": 17,
   "id": "1cd90637",
   "metadata": {},
   "outputs": [],
   "source": [
    "using DataStructures"
   ]
  },
  {
   "cell_type": "code",
   "execution_count": 18,
   "id": "0a191758",
   "metadata": {},
   "outputs": [
    {
     "data": {
      "text/plain": [
       "(383, 377)"
      ]
     },
     "execution_count": 18,
     "metadata": {},
     "output_type": "execute_result"
    }
   ],
   "source": [
    "data_12 = reduce(hcat, collect.(readlines(\"12.txt\")))\n",
    "\n",
    "function shortest_path(elevations, from_any_a = false)\n",
    "    directions = (CartesianIndex(0, 1), CartesianIndex(0, -1), CartesianIndex(1, 0), CartesianIndex(-1, 0))\n",
    "    s, e = findfirst(==('S'), elevations), findfirst(==('E'), elevations)\n",
    "    elevations = deepcopy(elevations)\n",
    "    elevations[[s, e]] .= 'a', 'z'\n",
    "    pq = PriorityQueue(e => 0)\n",
    "    while from_any_a ? elevations[first(peek(pq))] != 'a' : first(peek(pq)) != s\n",
    "        x, c = dequeue_pair!(pq)\n",
    "        for d in directions\n",
    "            if x + d in CartesianIndices(elevations) && elevations[x+d] >= elevations[x] - 1\n",
    "                pq[x+d] = min(get!(pq, x + d, c + 1), c + 1)\n",
    "            end\n",
    "        end\n",
    "    end\n",
    "    last(peek(pq))\n",
    "end\n",
    "\n",
    "shortest_path(data_12), shortest_path(data_12, true)"
   ]
  },
  {
   "cell_type": "markdown",
   "id": "07b7d9d7",
   "metadata": {},
   "source": [
    "## [Day 13: Distress Signal](https://adventofcode.com/2022/day/13)"
   ]
  },
  {
   "cell_type": "code",
   "execution_count": 19,
   "id": "1c3d3f6b",
   "metadata": {},
   "outputs": [
    {
     "data": {
      "text/plain": [
       "(5340, 21276)"
      ]
     },
     "execution_count": 19,
     "metadata": {},
     "output_type": "execute_result"
    }
   ],
   "source": [
    "data_13 = readlines(\"13.txt\")\n",
    "\n",
    "struct IntWrapper\n",
    "    x::Int\n",
    "end\n",
    "Base.isless(a::IntWrapper, b::IntWrapper) = a.x < b.x\n",
    "Base.isless(a::Vector, b::IntWrapper) = a < [b]\n",
    "Base.isless(a::IntWrapper, b::Vector) = [a] < b\n",
    "Base.isequal(a::Vector, b::IntWrapper) = isequal(a, [b])\n",
    "Base.isequal(a::IntWrapper, b::Vector) = isequal([a], b)\n",
    "wrap_ints(x::Int) = IntWrapper(x)\n",
    "wrap_ints(x::Vector) = wrap_ints.(x)\n",
    "\n",
    "packets = wrap_ints.(eval.(Meta.parse.(filter(!isempty, data_13))))\n",
    "sorted_packets = sort!([packets; [[[IntWrapper(2)]]]; [[[IntWrapper(6)]]]])\n",
    "sum(findall(packets[1:2:end] .< packets[2:2:end])),\n",
    "findfirst(==([[IntWrapper(2)]]), sorted_packets) * findfirst(==([[IntWrapper(6)]]), sorted_packets)"
   ]
  },
  {
   "cell_type": "markdown",
   "id": "737c6f11",
   "metadata": {},
   "source": [
    "## [Day 14: Regolith Reservoir](https://adventofcode.com/2022/day/14)"
   ]
  },
  {
   "cell_type": "code",
   "execution_count": 20,
   "id": "f079c65a",
   "metadata": {},
   "outputs": [],
   "source": [
    "using OffsetArrays"
   ]
  },
  {
   "cell_type": "code",
   "execution_count": 21,
   "id": "56952ce0",
   "metadata": {},
   "outputs": [
    {
     "data": {
      "text/plain": [
       "(618, 26358)"
      ]
     },
     "execution_count": 21,
     "metadata": {},
     "output_type": "execute_result"
    }
   ],
   "source": [
    "data_14 = readlines(\"14.txt\")\n",
    "paths = [[parse.(Int, split(xy, ',')) for xy in path] for path in split.(data_14, \" -> \")]\n",
    "\n",
    "function count_sand(paths, include_floor = false)\n",
    "    directions = (CartesianIndex(0, 1), CartesianIndex(-1, 1), CartesianIndex(1, 1))\n",
    "    points = reduce(hcat, reduce(vcat, paths))\n",
    "    (x_min, x_max), (y_min, y_max) = extrema(points; dims = 2)\n",
    "    if include_floor\n",
    "        y_max += 2\n",
    "        x_min -= y_max\n",
    "        x_max += y_max\n",
    "        push!(paths, [[x_min, y_max], [x_max, y_max]])\n",
    "    end\n",
    "\n",
    "    grid = zeros(Int, x_min:x_max, 0:y_max)\n",
    "    for p in paths\n",
    "        for i in 1:length(p)-1\n",
    "            grid[(x -> range(x...)).(minmax.(p[i], p[i+1]))...] .= 1\n",
    "        end\n",
    "    end\n",
    "    while !include_floor || grid[CartesianIndex(500, 0)] == 0\n",
    "        sand = CartesianIndex(500, 0)\n",
    "        while true\n",
    "            for d in directions\n",
    "                sand + d in CartesianIndices(grid) || return grid\n",
    "                if grid[sand+d] == 0\n",
    "                    sand += d\n",
    "                    @goto keep_falling\n",
    "                end\n",
    "            end\n",
    "            grid[sand] = 2\n",
    "            break\n",
    "            @label keep_falling\n",
    "        end\n",
    "    end\n",
    "    grid\n",
    "end\n",
    "\n",
    "sum(count_sand(paths) .== 2), sum(count_sand(paths, true) .== 2)"
   ]
  },
  {
   "cell_type": "markdown",
   "id": "08c31e40",
   "metadata": {},
   "source": [
    "## [Day 15: Beacon Exclusion Zone](https://adventofcode.com/2022/day/15)"
   ]
  },
  {
   "cell_type": "code",
   "execution_count": 22,
   "id": "9ba7c899",
   "metadata": {},
   "outputs": [],
   "source": [
    "using StaticArrays"
   ]
  },
  {
   "cell_type": "code",
   "execution_count": 23,
   "id": "54510e07",
   "metadata": {},
   "outputs": [
    {
     "data": {
      "text/plain": [
       "(4876693, 11645454855041)"
      ]
     },
     "execution_count": 23,
     "metadata": {},
     "output_type": "execute_result"
    }
   ],
   "source": [
    "data_15 = readlines(\"15.txt\")\n",
    "sensor_beacon_pairs = [\n",
    "    (SVector(sx, sy), SVector(bx, by)) for (sx, sy, bx, by) in [\n",
    "        parse.(Int, match(r\"Sensor at x=(-?\\d+), y=(-?\\d+): closest beacon is at x=(-?\\d+), y=(-?\\d+)\", l).captures) for l in data_15\n",
    "    ]\n",
    "]\n",
    "\n",
    "function combine_ranges!(ranges)\n",
    "    sort!(filter!(!isempty, ranges); by = first)\n",
    "    i = 2\n",
    "    while i <= length(ranges)\n",
    "        if last(ranges[i-1]) >= first(ranges[i])\n",
    "            ranges[i-1] = first(ranges[i-1]):max(last(ranges[i-1]), last(ranges[i]))\n",
    "            deleteat!(ranges, i)\n",
    "        else\n",
    "            i += 1\n",
    "        end\n",
    "    end\n",
    "    ranges\n",
    "end\n",
    "\n",
    "function no_beacon_ranges_by_y(sensor_beacon_pairs, y)\n",
    "    combine_ranges!([(dx = sum(abs.(s - b)) - abs(s[2] - y); s[1]-dx:s[1]+dx) for (s, b) in sensor_beacon_pairs])\n",
    "end\n",
    "\n",
    "function find_beacon(sensor_beacon_pairs, x_range = 0:4000000, y_range = 0:4000000)\n",
    "    for y in y_range\n",
    "        no_beacon_ranges = no_beacon_ranges_by_y(sensor_beacon_pairs, y)\n",
    "        if !any(issubset(x_range, r) for r in no_beacon_ranges)\n",
    "            return SVector(last(no_beacon_ranges[findfirst(r -> last(r) in x_range, no_beacon_ranges)]) + 1, y)\n",
    "        end\n",
    "    end\n",
    "end\n",
    "\n",
    "sum(length.(no_beacon_ranges_by_y(sensor_beacon_pairs, 2000000))) -\n",
    "length(unique(filter(x -> x[2] == 2000000, last.(sensor_beacon_pairs)))),\n",
    "find_beacon(sensor_beacon_pairs)' * SVector(4000000, 1)"
   ]
  },
  {
   "cell_type": "markdown",
   "id": "c9741545",
   "metadata": {},
   "source": [
    "## [Day 16: Proboscidea Volcanium](https://adventofcode.com/2022/day/16)"
   ]
  },
  {
   "cell_type": "code",
   "execution_count": 24,
   "id": "33ae9e96",
   "metadata": {},
   "outputs": [],
   "source": [
    "using OffsetArrays"
   ]
  },
  {
   "cell_type": "code",
   "execution_count": 25,
   "id": "94a593da",
   "metadata": {},
   "outputs": [
    {
     "data": {
      "text/plain": [
       "(2320, 2967)"
      ]
     },
     "execution_count": 25,
     "metadata": {},
     "output_type": "execute_result"
    }
   ],
   "source": [
    "data_16 = readlines(\"16.txt\")\n",
    "\n",
    "function optimal_pressure(scan)\n",
    "    flow_rates_dict = Dict(v[7:8] => parse(Int, match(r\"\\d+\", v).match) for v in scan)\n",
    "    out_edges_dict = Dict(v[7:8] => split(match(r\"valves? (.*)\", v).captures[1], \", \") for v in scan)\n",
    "    sorted_flow_rates = sort(collect(flow_rates_dict), by = last, rev = true)\n",
    "    location_index = Dict(Pair.(first.(sorted_flow_rates), 1:length(sorted_flow_rates)))\n",
    "    out_edges_by_index = [[location_index[x] for x in out_edges_dict[k]] for k in first.(sorted_flow_rates)]\n",
    "\n",
    "    num_nonzero_valves = findlast(kv -> last(kv) > 0, sorted_flow_rates)\n",
    "    valve_states = 0:2^num_nonzero_valves-1\n",
    "    valve_state_release_rate = [\n",
    "        sum(\n",
    "            v * (valve_state & (1 << x) > 0) for\n",
    "            (x, v) in zip(0:num_nonzero_valves-1, last.(sorted_flow_rates[1:num_nonzero_valves]))\n",
    "        ) for valve_state in valve_states\n",
    "    ]\n",
    "\n",
    "    optimal_release_to_come = zeros(Int, 0:30, 1:length(location_index), valve_states) .- 1\n",
    "    optimal_release_to_come[0, location_index[\"AA\"], 0] = 0\n",
    "\n",
    "    for t in 1:30\n",
    "        for location in 1:length(location_index)\n",
    "            for valve_state in valve_states\n",
    "                release_to_come = optimal_release_to_come[t-1, location, valve_state]\n",
    "                if release_to_come >= 0\n",
    "                    current_release = valve_state_release_rate[valve_state+1]\n",
    "                    if location <= num_nonzero_valves && (valve_state & (1 << (location - 1)) == 0)\n",
    "                        new_valve_state = valve_state | (1 << (location - 1))\n",
    "                        optimal_release_to_come[t, location, new_valve_state] = max(\n",
    "                            optimal_release_to_come[t, location, new_valve_state],\n",
    "                            release_to_come + current_release,\n",
    "                        )\n",
    "                    end\n",
    "                    for next_location in out_edges_by_index[location]\n",
    "                        optimal_release_to_come[t, next_location, valve_state] = max(\n",
    "                            optimal_release_to_come[t, next_location, valve_state],\n",
    "                            release_to_come + current_release,\n",
    "                        )\n",
    "                    end\n",
    "                end\n",
    "            end\n",
    "        end\n",
    "    end\n",
    "\n",
    "    optimal_release_to_come_to_any_location = maximum(optimal_release_to_come; dims = 2)\n",
    "    maximum(optimal_release_to_come[30, :, :]),\n",
    "    maximum(\n",
    "        optimal_release_to_come_to_any_location[26, 1, my_valve_state] +\n",
    "        optimal_release_to_come_to_any_location[26, 1, elephant_valve_state] for my_valve_state in valve_states for\n",
    "        elephant_valve_state in valve_states if my_valve_state & elephant_valve_state == 0\n",
    "    )\n",
    "end\n",
    "\n",
    "optimal_pressure(data_16)"
   ]
  },
  {
   "cell_type": "markdown",
   "id": "12b49c71",
   "metadata": {},
   "source": [
    "## [Day 17: Pyroclastic Flow](https://adventofcode.com/2022/day/17)"
   ]
  },
  {
   "cell_type": "code",
   "execution_count": 26,
   "id": "9bf820a9",
   "metadata": {},
   "outputs": [
    {
     "data": {
      "text/plain": [
       "(3144, 1565242165201)"
      ]
     },
     "execution_count": 26,
     "metadata": {},
     "output_type": "execute_result"
    }
   ],
   "source": [
    "data_17 = readline(\"17.txt\")\n",
    "\n",
    "function falling_rocks(moves, num_rocks = 2022)\n",
    "    rocks = [ones(Int, 1, 4), [0 1 0; 1 1 1; 0 1 0], [1 1 1; 0 0 1; 0 0 1], ones(Int, 4, 1), ones(Int, 2, 2)]\n",
    "\n",
    "    function fall_until_full_row((initial_move_index, initial_rock_index, tower_start), max_num_rocks)\n",
    "        max_num_rocks == 0 && return (false, (initial_move_index, initial_rock_index, tower_start), 0, 0)\n",
    "        tower = zeros(Int, 1000, 7)\n",
    "        tower[CartesianIndices(tower_start)] .= tower_start\n",
    "\n",
    "        m = r = 0\n",
    "        rock_level = size(tower_start, 1)\n",
    "        offset = CartesianIndex(rock_level + 3, 2)\n",
    "        while true\n",
    "            m += 1\n",
    "            rock = rocks[mod(initial_rock_index + r, 1:length(rocks))]\n",
    "            for offset_delta in (\n",
    "                CartesianIndex(0, moves[mod(initial_move_index + m - 1, 1:length(moves))] == '>' ? 1 : -1),\n",
    "                CartesianIndex(-1, 0),\n",
    "            )\n",
    "                new_offset = offset + offset_delta\n",
    "                if all(\n",
    "                    rock[i] == 0 || (i + new_offset in CartesianIndices(tower) && tower[i+new_offset] == 0) for\n",
    "                    i in CartesianIndices(rock)\n",
    "                )\n",
    "                    offset = new_offset\n",
    "                elseif offset_delta == CartesianIndex(-1, 0)\n",
    "                    r += 1\n",
    "                    tower[offset.+CartesianIndices(rock)] .+= rock\n",
    "                    rock_level = max(rock_level, size(rock, 1) + offset.I[1])\n",
    "\n",
    "                    full_row_index =\n",
    "                        findlast(all(==(1), row) for row in eachrow(tower[offset.I[1].+(1:size(rock, 1)), :]))\n",
    "                    mi, ri = mod(initial_move_index + m, 1:length(moves)), mod(initial_rock_index + r, 1:length(rocks))\n",
    "                    if !isnothing(full_row_index)\n",
    "                        num_rows_removed = offset.I[1] + full_row_index\n",
    "                        return (true, (mi, ri, tower[num_rows_removed+1:rock_level, :]), r, num_rows_removed)\n",
    "                    elseif r == max_num_rocks\n",
    "                        return (false, (mi, ri, tower[1:rock_level, :]), r, 0)\n",
    "                    end\n",
    "\n",
    "                    offset = CartesianIndex(rock_level + 3, 2)\n",
    "                    if rock_level + 7 > size(tower, 1)\n",
    "                        tower = [tower; zero(tower)]\n",
    "                    end\n",
    "                end\n",
    "            end\n",
    "        end\n",
    "    end\n",
    "\n",
    "    cache = Dict{Tuple{Int64,Int64,Matrix{Int64}},Tuple{Tuple{Int64,Int64,Matrix{Int64}},Int64,Int64}}()\n",
    "\n",
    "    state = (1, 1, zeros(Int, 0, 7))\n",
    "    total_rock_level = 0\n",
    "    while num_rocks > 0\n",
    "        if state in keys(cache)\n",
    "            cycle_state, cycle_r, cycle_rl = _, state_r, state_rl = cache[state]\n",
    "            while cycle_state != state\n",
    "                cycle_state, r, rl = cache[cycle_state]\n",
    "                cycle_r += r\n",
    "                cycle_rl += rl\n",
    "            end\n",
    "            num_cycles, num_rocks = divrem(num_rocks, cycle_r)\n",
    "            total_rock_level += num_cycles * cycle_rl\n",
    "            if num_rocks > state_r\n",
    "                num_rocks -= state_r\n",
    "                total_rock_level += state_rl\n",
    "                state = cache[state][1]\n",
    "                continue\n",
    "            end\n",
    "        end\n",
    "        full_row, new_state, r, rl = fall_until_full_row(state, num_rocks)\n",
    "        if full_row\n",
    "            cache[state] = (new_state, r, rl)\n",
    "        end\n",
    "        state = new_state\n",
    "        num_rocks -= r\n",
    "        total_rock_level += rl\n",
    "    end\n",
    "    total_rock_level + size(state[3], 1)\n",
    "end\n",
    "\n",
    "falling_rocks(data_17, 2022), falling_rocks(data_17, 10^12)"
   ]
  },
  {
   "cell_type": "markdown",
   "id": "9cd01789",
   "metadata": {},
   "source": [
    "## [Day 18: Boiling Boulders](https://adventofcode.com/2022/day/18)"
   ]
  },
  {
   "cell_type": "code",
   "execution_count": 27,
   "id": "ed9b7380",
   "metadata": {},
   "outputs": [],
   "source": [
    "using StaticArrays"
   ]
  },
  {
   "cell_type": "code",
   "execution_count": 28,
   "id": "a1141d74",
   "metadata": {},
   "outputs": [
    {
     "data": {
      "text/plain": [
       "(3650, 2118)"
      ]
     },
     "execution_count": 28,
     "metadata": {},
     "output_type": "execute_result"
    }
   ],
   "source": [
    "data_18 = readlines(\"18.txt\")\n",
    "cubes = [SVector(parse.(Int, xyz)...) for xyz in split.(data_18, ',')]\n",
    "\n",
    "function surface_area(cubes)\n",
    "    n = length(cubes)\n",
    "    6 * n - 2 * sum(sum(abs.(cubes[i] - cubes[j])) == 1 for i in 1:n for j in i+1:n)\n",
    "end\n",
    "\n",
    "function exterior_surface_area(cubes)\n",
    "    directions = [SVector(ntuple(x -> s * (x == i), 3)) for i in 1:3 for s in (-1, 1)]\n",
    "    lo, hi = reduce((x, y) -> min.(x, y), cubes) .- 1, reduce((x, y) -> max.(x, y), cubes) .+ 1\n",
    "\n",
    "    cubes = Set(cubes)\n",
    "    unvisited = [lo]\n",
    "    visited = Set{SVector{3,Int64}}()\n",
    "    area = 0\n",
    "    while !isempty(unvisited)\n",
    "        (c = pop!(unvisited)) in visited && continue\n",
    "        for d in directions\n",
    "            n = c + d\n",
    "            if all(lo .<= n .<= hi) && !(n in visited)\n",
    "                if n in cubes\n",
    "                    area += 1\n",
    "                else\n",
    "                    push!(unvisited, n)\n",
    "                end\n",
    "            end\n",
    "        end\n",
    "        push!(visited, c)\n",
    "    end\n",
    "    area\n",
    "end\n",
    "\n",
    "surface_area(cubes), exterior_surface_area(cubes)"
   ]
  },
  {
   "cell_type": "markdown",
   "id": "0875c7d6",
   "metadata": {},
   "source": [
    "## [Day 19: Not Enough Minerals](https://adventofcode.com/2022/day/19)"
   ]
  },
  {
   "cell_type": "code",
   "execution_count": 29,
   "id": "44ea61ae",
   "metadata": {},
   "outputs": [
    {
     "data": {
      "text/plain": [
       "(1081, 2415)"
      ]
     },
     "execution_count": 29,
     "metadata": {},
     "output_type": "execute_result"
    }
   ],
   "source": [
    "data_19 = readlines(\"19.txt\")\n",
    "blueprints = [parse.(Int, first.(collect(eachmatch(r\"(\\d+)\", bp)))) for bp in data_19]\n",
    "\n",
    "function blueprint_quality(blueprint, time_horizon = 24)\n",
    "    i, oo, co, bo, bc, go, gb = blueprint\n",
    "    maxo, maxc, maxb = max(oo, co, bo, go), bc, gb\n",
    "    truncate_state(h, (no, nc, nb, o, c, b)) =\n",
    "        min.(\n",
    "            (no, nc, nb, o, c, b),\n",
    "            (maxo, maxc, maxb, maxo + (maxo - no) * h, maxc + (maxc - nc) * h, maxb + (maxb - nb) * h),\n",
    "        )\n",
    "\n",
    "    reward_to_come = [Dict((1, 0, 0, 0, 0, 0) => 0)]\n",
    "    for t in 1:time_horizon\n",
    "        r_t = Dict{NTuple{6,Int64},Int64}()\n",
    "        for (s, r) in reward_to_come[end]\n",
    "            no, nc, nb, o, c, b = s\n",
    "            s_n = truncate_state(time_horizon - t - 1, (no, nc, nb, o + no, c + nc, b + nb))\n",
    "            r_t[s_n] = max(get(r_t, s_n, 0), r)\n",
    "            if o >= oo\n",
    "                s_n = truncate_state(time_horizon - t - 1, (no + 1, nc, nb, o + no - oo, c + nc, b + nb))\n",
    "                r_t[s_n] = max(get(r_t, s_n, 0), r)\n",
    "            end\n",
    "            if o >= co\n",
    "                s_n = truncate_state(time_horizon - t - 1, (no, nc + 1, nb, o + no - co, c + nc, b + nb))\n",
    "                r_t[s_n] = max(get(r_t, s_n, 0), r)\n",
    "            end\n",
    "            if o >= bo && c >= bc\n",
    "                s_n = truncate_state(time_horizon - t - 1, (no, nc, nb + 1, o + no - bo, c + nc - bc, b + nb))\n",
    "                r_t[s_n] = max(get(r_t, s_n, 0), r)\n",
    "            end\n",
    "            if o >= go && b >= gb\n",
    "                s_n = truncate_state(time_horizon - t - 1, (no, nc, nb, o + no - go, c + nc, b + nb - gb))\n",
    "                r_t[s_n] = max(get(r_t, s_n, 0), time_horizon - t + r)\n",
    "            end\n",
    "        end\n",
    "        push!(reward_to_come, r_t)\n",
    "    end\n",
    "    maximum(values(reward_to_come[end]))\n",
    "end\n",
    "\n",
    "sum(prod.(enumerate(blueprint_quality.(blueprints)))), prod(blueprint_quality.(blueprints[1:3], 32))"
   ]
  },
  {
   "cell_type": "markdown",
   "id": "70ab06c8",
   "metadata": {},
   "source": [
    "## [Day 20: Grove Positioning System](https://adventofcode.com/2022/day/20)"
   ]
  },
  {
   "cell_type": "code",
   "execution_count": 30,
   "id": "42781d70",
   "metadata": {},
   "outputs": [
    {
     "data": {
      "text/plain": [
       "(11616, 9937909178485)"
      ]
     },
     "execution_count": 30,
     "metadata": {},
     "output_type": "execute_result"
    }
   ],
   "source": [
    "data_20 = readlines(\"20.txt\")\n",
    "sequence = parse.(Int, data_20)\n",
    "numbered_sequence = collect(enumerate(sequence))\n",
    "\n",
    "function mix!(sequence)\n",
    "    for i in 1:length(sequence)\n",
    "        j = findfirst(z -> first(z) == i, sequence)\n",
    "        x = last(popat!(sequence, j))\n",
    "        insert!(sequence, mod(j + x, 1:length(sequence)), (i, x))\n",
    "    end\n",
    "    sequence\n",
    "end\n",
    "\n",
    "function decrypt(sequence)\n",
    "    j = findfirst(z -> last(z) == 0, sequence)\n",
    "    sum(last(sequence[mod(j + i, 1:length(sequence))]) for i in (1000, 2000, 3000))\n",
    "end\n",
    "\n",
    "decrypt(mix!(numbered_sequence)),\n",
    "decrypt(foldl((x, _) -> mix!(x), 1:10; init = collect(enumerate(sequence .* 811589153))))"
   ]
  },
  {
   "cell_type": "markdown",
   "id": "fc6526c9",
   "metadata": {},
   "source": [
    "## [Day 21: Monkey Math](https://adventofcode.com/2022/day/21)"
   ]
  },
  {
   "cell_type": "code",
   "execution_count": 31,
   "id": "51ac1b39",
   "metadata": {},
   "outputs": [],
   "source": [
    "using SymPy"
   ]
  },
  {
   "cell_type": "code",
   "execution_count": 32,
   "id": "6d9a3cb3",
   "metadata": {},
   "outputs": [
    {
     "data": {
      "text/plain": [
       "(51928383302238, Sym[3305669217840.00])"
      ]
     },
     "execution_count": 32,
     "metadata": {},
     "output_type": "execute_result"
    }
   ],
   "source": [
    "data_21 = readlines(\"21.txt\")\n",
    "\n",
    "function parse_monkey_line(line)\n",
    "    name, job = split(line, \": \")\n",
    "    job = split(job)\n",
    "    length(job) == 1 && return name => ((), () -> parse(Int, only(job)))\n",
    "    a, op, b = job\n",
    "    name => ((a, b), getfield(Main, Symbol(op)))\n",
    "end\n",
    "\n",
    "monkeys = Dict(parse_monkey_line.(data_21))\n",
    "\n",
    "function monkey_yells(monkeys, match = false)\n",
    "    if match\n",
    "        monkeys = deepcopy(monkeys)\n",
    "        monkeys[\"humn\"] = ((), () -> sympy.Symbol(\"x\"))\n",
    "        monkeys[\"root\"] = (monkeys[\"root\"][1], -)\n",
    "        yells = Dict{String,Any}()\n",
    "    else\n",
    "        yells = Dict{String,Int}()\n",
    "    end\n",
    "\n",
    "    while length(yells) < length(monkeys)\n",
    "        for (m, (deps, op)) in monkeys\n",
    "            if !(m in keys(yells)) && issubset(deps, keys(yells))\n",
    "                yells[m] = op((d -> yells[d]).(deps)...)\n",
    "            end\n",
    "        end\n",
    "    end\n",
    "    yells\n",
    "end\n",
    "\n",
    "monkey_yells(monkeys)[\"root\"], solve(monkey_yells(monkeys, true)[\"root\"], sympy.Symbol(\"x\"))"
   ]
  },
  {
   "cell_type": "markdown",
   "id": "840b5c0c",
   "metadata": {},
   "source": [
    "## [Day 22: Monkey Map](https://adventofcode.com/2022/day/22)"
   ]
  },
  {
   "cell_type": "code",
   "execution_count": 33,
   "id": "373cc686",
   "metadata": {},
   "outputs": [
    {
     "data": {
      "text/plain": [
       "(117054, 162096)"
      ]
     },
     "execution_count": 33,
     "metadata": {},
     "output_type": "execute_result"
    }
   ],
   "source": [
    "data_22 = readlines(\"22.txt\")\n",
    "grove_data = data_22[1:end-2]\n",
    "grove = reduce(vcat, permutedims.(collect.(rpad.(grove_data, maximum(length.(grove_data))))))\n",
    "movement = data_22[end]\n",
    "\n",
    "rotate_ccw((x, y)) = (-y, x)\n",
    "rotate_ccw(i::CartesianIndex) = CartesianIndex(rotate_ccw(i.I))\n",
    "rotate_cw((x, y)) = (y, -x)\n",
    "rotate_cw(i::CartesianIndex) = CartesianIndex(rotate_cw(i.I))\n",
    "direction(i::CartesianIndex) = CartesianIndex(sign.(i.I))\n",
    "direction((a, b)) = direction(b - a)\n",
    "edge_indices((a, b)) = (a + i * direction(b - a) for i in 0:sum(abs.((b - a).I)))\n",
    "\n",
    "function traverse_grove_flat(grove, movement)\n",
    "    row_ranges = [findfirst(!=(' '), r):findlast(!=(' '), r) for r in eachrow(grove)]\n",
    "    col_ranges = [findfirst(!=(' '), c):findlast(!=(' '), c) for c in eachcol(grove)]\n",
    "\n",
    "    curr = findfirst(==('.'), grove[1:1, :])\n",
    "    d = CartesianIndex(0, 1)\n",
    "    m = 1\n",
    "    while true\n",
    "        n = findnext(in(('L', 'R')), movement, m)\n",
    "        s, t = isnothing(n) ? (parse(Int, movement[m:end]), 'S') : (parse(Int, movement[m:n-1]), movement[n])\n",
    "        for i in 1:s\n",
    "            next = CartesianIndex(mod.((curr + d).I, (col_ranges[curr[2]], row_ranges[curr[1]]))...)\n",
    "            grove[next] == '#' && break\n",
    "            curr = next\n",
    "        end\n",
    "        t == 'S' && break\n",
    "        d = t == 'L' ? rotate_ccw(d) : rotate_cw(d)\n",
    "        m = n + 1\n",
    "    end\n",
    "    1000 * curr[1] + 4 * curr[2] + (d[1] == 0 ? 1 - d[2] : 2 - d[1])\n",
    "end\n",
    "\n",
    "function traverse_grove_cube(grove, movement)\n",
    "    cube_size = Int(sqrt(count(==(' '), grove) / 6))\n",
    "    start = findfirst(==('.'), grove[1:1, :])\n",
    "    edges = [(start, start + CartesianIndex(cube_size - 1, 0))]\n",
    "    vertex_neighborhoods = [Set((start,))]\n",
    "    warp = Dict{NTuple{2,CartesianIndex{2}},NTuple{2,CartesianIndex{2}}}()\n",
    "\n",
    "    for _ in 2:14\n",
    "        a, b = last(edges)\n",
    "        u = direction(b - a)\n",
    "        if !(b + u in CartesianIndices(grove)) || grove[b+u] == ' '\n",
    "            push!(edges, (b, b + rotate_ccw(b - a)))\n",
    "            push!(vertex_neighborhoods, Set((b,)))\n",
    "        elseif b + u + rotate_cw(u) in CartesianIndices(grove) && grove[b+u+rotate_cw(u)] != ' '\n",
    "            push!(edges, (b + u + rotate_cw(u), b + u + rotate_cw(u) + rotate_cw(b - a)))\n",
    "            push!(vertex_neighborhoods, Set((b, b + u, b + u + rotate_cw(u))))\n",
    "        else\n",
    "            push!(edges, (b + u, b + u + (b - a)))\n",
    "            push!(vertex_neighborhoods, Set((b, b + u)))\n",
    "        end\n",
    "    end\n",
    "\n",
    "    for _ in 1:7\n",
    "        v = findfirst(length(n) == 3 for n in vertex_neighborhoods)\n",
    "        matched_edge_pair = Tuple{eltype(edges),eltype(edges)}[]\n",
    "        for x in vertex_neighborhoods[v]\n",
    "            for (ei, e) in enumerate(edges)\n",
    "                if x == e[1]\n",
    "                    push!(matched_edge_pair, (e, e .+ Ref(rotate_cw(direction(e)))))\n",
    "                elseif x == e[2]\n",
    "                    push!(matched_edge_pair, (reverse(e), reverse(e) .+ Ref(rotate_cw(direction(e)))))\n",
    "                else\n",
    "                    continue\n",
    "                end\n",
    "                deleteat!(edges, ei)\n",
    "            end\n",
    "        end\n",
    "        (i1, o1), (i2, o2) = matched_edge_pair\n",
    "        for (x, y) in zip(zip(edge_indices(i1), edge_indices(o1)), edge_indices(i2))\n",
    "            warp[x] = (y, first(i2) - first(o2))\n",
    "        end\n",
    "        for (x, y) in zip(zip(edge_indices(i2), edge_indices(o2)), edge_indices(i1))\n",
    "            warp[x] = (y, first(i1) - first(o1))\n",
    "        end\n",
    "        filter!(Base.Fix1(isdisjoint, vertex_neighborhoods[v]), vertex_neighborhoods)\n",
    "        for n in vertex_neighborhoods\n",
    "            last(i1) in n && push!(n, last(i2))\n",
    "            last(i2) in n && push!(n, last(i1))\n",
    "        end\n",
    "    end\n",
    "\n",
    "    curr = start\n",
    "    d = CartesianIndex(0, 1)\n",
    "    m = 1\n",
    "    while true\n",
    "        n = findnext(in(('L', 'R')), movement, m)\n",
    "        s, t = isnothing(n) ? (parse(Int, movement[m:end]), 'S') : (parse(Int, movement[m:n-1]), movement[n])\n",
    "        for i in 1:s\n",
    "            next, next_d = curr + d, d\n",
    "            if !(next in CartesianIndices(grove)) || grove[next] == ' '\n",
    "                next, next_d = warp[(curr, next)]\n",
    "            end\n",
    "            grove[next] == '#' && break\n",
    "            curr, d = next, next_d\n",
    "        end\n",
    "        t == 'S' && break\n",
    "        d = t == 'L' ? rotate_ccw(d) : rotate_cw(d)\n",
    "        m = n + 1\n",
    "    end\n",
    "    1000 * curr[1] + 4 * curr[2] + (d[1] == 0 ? 1 - d[2] : 2 - d[1])\n",
    "end\n",
    "\n",
    "traverse_grove_flat(grove, movement), traverse_grove_cube(grove, movement)"
   ]
  },
  {
   "cell_type": "markdown",
   "id": "0ce121b0",
   "metadata": {},
   "source": [
    "## [Day 23: Unstable Diffusion](https://adventofcode.com/2022/day/23)"
   ]
  },
  {
   "cell_type": "code",
   "execution_count": 34,
   "id": "a5f92555",
   "metadata": {},
   "outputs": [
    {
     "data": {
      "text/plain": [
       "(3871, 925)"
      ]
     },
     "execution_count": 34,
     "metadata": {},
     "output_type": "execute_result"
    }
   ],
   "source": [
    "data_23 = readlines(\"23.txt\")\n",
    "elf_grid = reduce(vcat, permutedims.(collect.(data_23)))\n",
    "\n",
    "function diffuse_elves(elf_grid, t_max = 10)\n",
    "    NSWE = CartesianIndices.(((-1:-1, -1:1), (1:1, -1:1), (-1:1, -1:-1), (-1:1, 1:1)))\n",
    "    neighbors = union(NSWE...)\n",
    "    elf_set = Set(findall(==('#'), elf_grid))\n",
    "\n",
    "    for i in 1:t_max\n",
    "        next_elf_set = filter(e -> !any(f in elf_set for f in Ref(e) .+ neighbors), elf_set)\n",
    "        length(next_elf_set) == length(elf_set) && return elf_set, i\n",
    "        from2to = Dict{CartesianIndex{2},CartesianIndex{2}}()\n",
    "        for d in mod1.(i .- (1:4), 4)\n",
    "            for e in elf_set\n",
    "                if !(e in next_elf_set) && !any(f in elf_set for f in e .+ NSWE[d])\n",
    "                    from2to[e] = e + NSWE[d][2]\n",
    "                end\n",
    "            end\n",
    "        end\n",
    "        to2from = Dict{CartesianIndex{2},CartesianIndex{2}}()\n",
    "        for (f, t) in from2to\n",
    "            if t in keys(to2from)\n",
    "                delete!(to2from, t)\n",
    "            else\n",
    "                to2from[t] = f\n",
    "            end\n",
    "        end\n",
    "        elf_set = union!(next_elf_set, keys(to2from), setdiff!(elf_set, values(to2from)))\n",
    "    end\n",
    "    elf_set, t_max\n",
    "end\n",
    "\n",
    "count_empty_ground_tiles(elf_set) = length(range(extrema(elf_set)...)) - length(elf_set)\n",
    "\n",
    "count_empty_ground_tiles(diffuse_elves(elf_grid)[1]), diffuse_elves(elf_grid, typemax(Int))[2]"
   ]
  },
  {
   "cell_type": "markdown",
   "id": "72c4d2a5",
   "metadata": {},
   "source": [
    "## [Day 24: Blizzard Basin](https://adventofcode.com/2022/day/24)"
   ]
  },
  {
   "cell_type": "code",
   "execution_count": 35,
   "id": "3aed5a96",
   "metadata": {},
   "outputs": [],
   "source": [
    "using DataStructures\n",
    "using StaticArrays"
   ]
  },
  {
   "cell_type": "code",
   "execution_count": 36,
   "id": "aa131cdf",
   "metadata": {},
   "outputs": [
    {
     "data": {
      "text/plain": [
       "(221, 739)"
      ]
     },
     "execution_count": 36,
     "metadata": {},
     "output_type": "execute_result"
    }
   ],
   "source": [
    "data_24 = readlines(\"24.txt\")\n",
    "maze = reduce(vcat, permutedims.(collect.(data_24)))[2:end-1, 2:end-1]\n",
    "\n",
    "function traverse_maze(maze, t0 = 0, swap = false)\n",
    "    ls, rs, us, ds = (SVector.(Tuple.(findall(==(c), maze))) for c in ('<', '>', '^', 'v'))\n",
    "    start = SVector(0, 1)\n",
    "    goal = SVector(size(maze) .+ (0, 1))\n",
    "    if swap\n",
    "        start, goal = goal, start\n",
    "    end\n",
    "\n",
    "    obstacle_cache = Dict{Int64,Set{SVector{2,Int64}}}()\n",
    "    function obstacles(t)\n",
    "        get!(obstacle_cache, t) do\n",
    "            Set(\n",
    "                mod1.(x, size(maze)) for\n",
    "                x in [ls .+ (SVector(0, -t),); rs .+ (SVector(0, t),); us .+ (SVector(-t, 0),); ds .+ (SVector(t, 0),)]\n",
    "            )\n",
    "        end\n",
    "    end\n",
    "\n",
    "    pq = PriorityQueue((start, t0) => t0)\n",
    "    while first(first(peek(pq))) != goal\n",
    "        (s, t), _ = dequeue_pair!(pq)\n",
    "        for n in (s,) .+ (SVector(1, 0), SVector(-1, 0), SVector(0, 1), SVector(0, -1), SVector(0, 0))\n",
    "            if (CartesianIndex(n...) in CartesianIndices(maze) || n == goal || n == start) && !(n in obstacles(t + 1))\n",
    "                pq[(n, t + 1)] = t + 1\n",
    "            end\n",
    "        end\n",
    "    end\n",
    "    last(peek(pq))\n",
    "end\n",
    "\n",
    "traverse_maze(maze), traverse_maze(maze, traverse_maze(maze, traverse_maze(maze), true))"
   ]
  },
  {
   "cell_type": "markdown",
   "id": "5c4de2f3",
   "metadata": {},
   "source": [
    "## [Day 25: Full of Hot Air](https://adventofcode.com/2022/day/25)"
   ]
  },
  {
   "cell_type": "code",
   "execution_count": 37,
   "id": "c3d25f88",
   "metadata": {},
   "outputs": [
    {
     "data": {
      "text/plain": [
       "\"2-20=01--0=0=0=2-120\""
      ]
     },
     "execution_count": 37,
     "metadata": {},
     "output_type": "execute_result"
    }
   ],
   "source": [
    "data_25 = readlines(\"25.txt\")\n",
    "\n",
    "function snafu_sum(lines)\n",
    "    snafu2int = Dict('2' => 2, '1' => 1, '0' => 0, '-' => -1, '=' => -2)\n",
    "    int2snafu = Dict(v => k for (k, v) in snafu2int)\n",
    "    total = sum([evalpoly(5, [snafu2int[y] for y in x]) for x in reverse.(collect.(data_25))])\n",
    "    total_digits = pushfirst!(reverse(digits(total; base = 5)), 0)\n",
    "    while any(>(2), total_digits)\n",
    "        for i in 1:length(total_digits)\n",
    "            if total_digits[i] > 2\n",
    "                total_digits[i-1] += 1\n",
    "                total_digits[i] -= 5\n",
    "            end\n",
    "        end\n",
    "    end\n",
    "    first(total_digits) == 0 && popfirst!(total_digits)\n",
    "    prod([int2snafu[d] for d in total_digits])\n",
    "end\n",
    "\n",
    "snafu_sum(data_25)"
   ]
  }
 ],
 "metadata": {
  "@webio": {
   "lastCommId": null,
   "lastKernelId": null
  },
  "kernelspec": {
   "display_name": "Julia 1.8.3",
   "language": "julia",
   "name": "julia-1.8"
  },
  "language_info": {
   "file_extension": ".jl",
   "mimetype": "application/julia",
   "name": "julia",
   "version": "1.8.3"
  }
 },
 "nbformat": 4,
 "nbformat_minor": 5
}
